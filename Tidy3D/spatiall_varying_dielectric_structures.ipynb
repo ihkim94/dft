{
 "cells": [
  {
   "cell_type": "code",
   "execution_count": 1,
   "metadata": {},
   "outputs": [],
   "source": [
    "import numpy as np\n",
    "import matplotlib.pyplot as plt\n",
    "import xarray as xr\n",
    "\n",
    "import tidy3d as td\n",
    "from tidy3d import web\n",
    "from tidy3d import SpatialDataArray"
   ]
  },
  {
   "cell_type": "code",
   "execution_count": 2,
   "metadata": {},
   "outputs": [],
   "source": [
    "lda0 = 1 # the lens is desinged to work a 1 um wavelength.\n",
    "freq0 = td.C_0 / lda0"
   ]
  },
  {
   "cell_type": "code",
   "execution_count": 3,
   "metadata": {},
   "outputs": [],
   "source": [
    "Nx, Ny, Nz = 100, 100, 1  # number of grid points along each dimension.\n",
    "#! The refractive index is invariant along the z-axis, and varies in the x-y plane.\n",
    "\n",
    "r = 20  # the radius of the lens (in micron).\n",
    "t = 10  # the thickness of the lens (in micron).\n",
    "\n",
    "# The coordinates for the refractive index data that includes x, y, z, and the frequency.\n",
    "X = np.linspace(-r, r, Nx)\n",
    "Y = np.linspace(-r, r, Ny)\n",
    "Z = np.array([0])"
   ]
  },
  {
   "cell_type": "code",
   "execution_count": 11,
   "metadata": {},
   "outputs": [
    {
     "data": {
      "text/plain": [
       "array([[[-20.        ],\n",
       "        [-20.        ],\n",
       "        [-20.        ],\n",
       "        ...,\n",
       "        [-20.        ],\n",
       "        [-20.        ],\n",
       "        [-20.        ]],\n",
       "\n",
       "       [[-19.5959596 ],\n",
       "        [-19.5959596 ],\n",
       "        [-19.5959596 ],\n",
       "        ...,\n",
       "        [-19.5959596 ],\n",
       "        [-19.5959596 ],\n",
       "        [-19.5959596 ]],\n",
       "\n",
       "       [[-19.19191919],\n",
       "        [-19.19191919],\n",
       "        [-19.19191919],\n",
       "        ...,\n",
       "        [-19.19191919],\n",
       "        [-19.19191919],\n",
       "        [-19.19191919]],\n",
       "\n",
       "       ...,\n",
       "\n",
       "       [[ 19.19191919],\n",
       "        [ 19.19191919],\n",
       "        [ 19.19191919],\n",
       "        ...,\n",
       "        [ 19.19191919],\n",
       "        [ 19.19191919],\n",
       "        [ 19.19191919]],\n",
       "\n",
       "       [[ 19.5959596 ],\n",
       "        [ 19.5959596 ],\n",
       "        [ 19.5959596 ],\n",
       "        ...,\n",
       "        [ 19.5959596 ],\n",
       "        [ 19.5959596 ],\n",
       "        [ 19.5959596 ]],\n",
       "\n",
       "       [[ 20.        ],\n",
       "        [ 20.        ],\n",
       "        [ 20.        ],\n",
       "        ...,\n",
       "        [ 20.        ],\n",
       "        [ 20.        ],\n",
       "        [ 20.        ]]])"
      ]
     },
     "execution_count": 11,
     "metadata": {},
     "output_type": "execute_result"
    }
   ],
   "source": [
    "x_mesh, y_mesh, z_mesh = np.meshgrid(X, Y, Z, indexing='ij')\n",
    "r_mesh = np.sqrt(x_mesh**2 + y_mesh**2) # the rdial distance\n",
    "\n"
   ]
  },
  {
   "cell_type": "code",
   "execution_count": null,
   "metadata": {},
   "outputs": [],
   "source": []
  }
 ],
 "metadata": {
  "kernelspec": {
   "display_name": "Python 3",
   "language": "python",
   "name": "python3"
  },
  "language_info": {
   "codemirror_mode": {
    "name": "ipython",
    "version": 3
   },
   "file_extension": ".py",
   "mimetype": "text/x-python",
   "name": "python",
   "nbconvert_exporter": "python",
   "pygments_lexer": "ipython3",
   "version": "3.10.13"
  }
 },
 "nbformat": 4,
 "nbformat_minor": 2
}
