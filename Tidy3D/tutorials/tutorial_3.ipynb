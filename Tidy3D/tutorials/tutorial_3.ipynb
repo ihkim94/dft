{
 "cells": [
  {
   "cell_type": "code",
   "execution_count": 1,
   "metadata": {},
   "outputs": [
    {
     "name": "stdout",
     "output_type": "stream",
     "text": [
      "The version of tidy3d is: 2.5.0 (important to match the version with the GUI version in the website.)\n"
     ]
    }
   ],
   "source": [
    "import numpy as np\n",
    "import matplotlib.pyplot as plt\n",
    "import tidy3d as td\n",
    "import tidy3d.web as web\n",
    "print(\"The version of tidy3d is:\", td.__version__, \"(important to match the version with the GUI version in the website.)\")"
   ]
  },
  {
   "cell_type": "markdown",
   "metadata": {},
   "source": [
    "# Calculate photonic crystal slab simulation"
   ]
  },
  {
   "cell_type": "code",
   "execution_count": 3,
   "metadata": {},
   "outputs": [],
   "source": [
    "runtime = 100.0 # in unit of 1/frequency bandwidth of the source\n",
    "dPML = 1.0      # space between PhC slabs and PML, in unit of the logest wavelength of interest"
   ]
  },
  {
   "cell_type": "code",
   "execution_count": null,
   "metadata": {},
   "outputs": [],
   "source": [
    "# Wavelength and frequency range\n",
    "freq_range = (75e12, 135e12)\n"
   ]
  }
 ],
 "metadata": {
  "kernelspec": {
   "display_name": "kim_tidy3d",
   "language": "python",
   "name": "python3"
  },
  "language_info": {
   "codemirror_mode": {
    "name": "ipython",
    "version": 3
   },
   "file_extension": ".py",
   "mimetype": "text/x-python",
   "name": "python",
   "nbconvert_exporter": "python",
   "pygments_lexer": "ipython3",
   "version": "3.10.13"
  }
 },
 "nbformat": 4,
 "nbformat_minor": 2
}
